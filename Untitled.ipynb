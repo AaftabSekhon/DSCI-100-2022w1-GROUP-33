{
 "cells": [
  {
   "cell_type": "code",
   "execution_count": null,
   "id": "c914a698-4c9d-4c75-a009-3bc750a3606f",
   "metadata": {},
   "outputs": [],
   "source": [
    "hello"
   ]
  },
  {
   "cell_type": "code",
   "execution_count": null,
   "id": "1299dd40-ab83-4f64-88ec-a4acc6fe9799",
   "metadata": {},
   "outputs": [],
   "source": [
    "print"
   ]
  }
 ],
 "metadata": {
  "kernelspec": {
   "display_name": "",
   "name": ""
  },
  "language_info": {
   "name": ""
  }
 },
 "nbformat": 4,
 "nbformat_minor": 5
}
